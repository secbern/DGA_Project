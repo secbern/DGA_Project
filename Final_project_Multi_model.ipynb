{
 "cells": [
  {
   "cell_type": "code",
   "execution_count": 1,
   "metadata": {
    "collapsed": true
   },
   "outputs": [],
   "source": [
    "import pandas as pd\n",
    "import numpy as np\n",
    "import matplotlib.pyplot as plt\n",
    "import math\n",
    "%matplotlib inline\n",
    "import warnings\n",
    "warnings.filterwarnings(\"ignore\")"
   ]
  },
  {
   "cell_type": "code",
   "execution_count": 2,
   "metadata": {
    "collapsed": true
   },
   "outputs": [],
   "source": [
    "df = pd.read_csv('domains.csv')"
   ]
  },
  {
   "cell_type": "code",
   "execution_count": 3,
   "metadata": {},
   "outputs": [
    {
     "data": {
      "text/html": [
       "<div>\n",
       "<style>\n",
       "    .dataframe thead tr:only-child th {\n",
       "        text-align: right;\n",
       "    }\n",
       "\n",
       "    .dataframe thead th {\n",
       "        text-align: left;\n",
       "    }\n",
       "\n",
       "    .dataframe tbody tr th {\n",
       "        vertical-align: top;\n",
       "    }\n",
       "</style>\n",
       "<table border=\"1\" class=\"dataframe\">\n",
       "  <thead>\n",
       "    <tr style=\"text-align: right;\">\n",
       "      <th></th>\n",
       "      <th>host</th>\n",
       "      <th>domain</th>\n",
       "      <th>class</th>\n",
       "      <th>subclass</th>\n",
       "    </tr>\n",
       "  </thead>\n",
       "  <tbody>\n",
       "    <tr>\n",
       "      <th>0</th>\n",
       "      <td>000directory.com.ar</td>\n",
       "      <td>000directory</td>\n",
       "      <td>legit</td>\n",
       "      <td>legit</td>\n",
       "    </tr>\n",
       "    <tr>\n",
       "      <th>1</th>\n",
       "      <td>000webhost.com</td>\n",
       "      <td>000webhost</td>\n",
       "      <td>legit</td>\n",
       "      <td>legit</td>\n",
       "    </tr>\n",
       "    <tr>\n",
       "      <th>2</th>\n",
       "      <td>001fans.com</td>\n",
       "      <td>001fans</td>\n",
       "      <td>legit</td>\n",
       "      <td>legit</td>\n",
       "    </tr>\n",
       "    <tr>\n",
       "      <th>3</th>\n",
       "      <td>01-telecharger.com</td>\n",
       "      <td>01-telecharger</td>\n",
       "      <td>legit</td>\n",
       "      <td>legit</td>\n",
       "    </tr>\n",
       "    <tr>\n",
       "      <th>4</th>\n",
       "      <td>010shangpu.com</td>\n",
       "      <td>010shangpu</td>\n",
       "      <td>legit</td>\n",
       "      <td>legit</td>\n",
       "    </tr>\n",
       "  </tbody>\n",
       "</table>\n",
       "</div>"
      ],
      "text/plain": [
       "                  host          domain  class subclass\n",
       "0  000directory.com.ar    000directory  legit    legit\n",
       "1       000webhost.com      000webhost  legit    legit\n",
       "2          001fans.com         001fans  legit    legit\n",
       "3   01-telecharger.com  01-telecharger  legit    legit\n",
       "4       010shangpu.com      010shangpu  legit    legit"
      ]
     },
     "execution_count": 3,
     "metadata": {},
     "output_type": "execute_result"
    }
   ],
   "source": [
    "df.head()"
   ]
  },
  {
   "cell_type": "code",
   "execution_count": 4,
   "metadata": {},
   "outputs": [
    {
     "data": {
      "text/plain": [
       "(133926, 4)"
      ]
     },
     "execution_count": 4,
     "metadata": {},
     "output_type": "execute_result"
    }
   ],
   "source": [
    "df.shape"
   ]
  },
  {
   "cell_type": "markdown",
   "metadata": {},
   "source": [
    "# Create some features"
   ]
  },
  {
   "cell_type": "code",
   "execution_count": 5,
   "metadata": {
    "collapsed": true
   },
   "outputs": [],
   "source": [
    "#basic string features:\n",
    "\n",
    "def string_length(s):\n",
    "    length = len(s)\n",
    "    return length\n",
    "\n",
    "def string_number_count(s):\n",
    "    numbers = sum(c.isdigit() for c in s)\n",
    "    return numbers\n",
    "\n",
    "def string_alpha_count(s):\n",
    "    alpha = sum(c.isalpha() for c in s)\n",
    "    return alpha\n",
    "\n",
    "def string_space_count(s):\n",
    "    spaces  = sum(c.isspace() for c in s)\n",
    "    return spaces\n",
    "\n",
    "def others(s):\n",
    "    numbers = sum(c.isdigit() for c in s)\n",
    "    alpha = sum(c.isalpha() for c in s)\n",
    "    spaces  = sum(c.isspace() for c in s)\n",
    "    others = len(s) - numbers - alpha - spaces\n",
    "    return others\n",
    "\n",
    "def entropy(string):\n",
    "        #\"Calculates the Shannon entropy of a string\"\n",
    "\n",
    "        # get probability of chars in string\n",
    "        prob = [ float(string.count(c)) / len(string) for c in dict.fromkeys(list(string)) ]\n",
    "\n",
    "        # calculate the entropy\n",
    "        entropy = - sum([ p * math.log(p) / math.log(2.0) for p in prob ])\n",
    "\n",
    "        return entropy\n",
    "\n",
    "#extract the Top-Level-Domain\n",
    "\n",
    "def find_tld(s):\n",
    "    domains = s.split(\".\")\n",
    "    tld = domains[-1]\n",
    "    return tld\n",
    "\n",
    "\n",
    "def shorten(tld):\n",
    "    return tld[:4]\n",
    "\n",
    "#find the second-level domains if present\n",
    "\n",
    "def two_LD(s):\n",
    "    domains = s.split(\".\")\n",
    "    twold = domains[-2]\n",
    "    return twold\n",
    "\n",
    "#count vowels\n",
    "\n",
    "vowels = ['a','e','i','o','u','y']\n",
    "def vowel_count(string):\n",
    "    vcount = 0\n",
    "    for i in vowels:\n",
    "        vcount += str(string).count(i)\n",
    "    return vcount\n",
    "\n",
    "def num_domains(column):\n",
    "    return str(column).count('.')+1\n",
    "\n",
    "\n",
    "#find substrings of consecutive consonants/numbers (max length and average)\n",
    "\n",
    "import re\n",
    "#def find_gibberish(string):\n",
    "#    gibberish = []\n",
    "#    abcs= re.findall(r'[a-zA-Z]+', string)\n",
    "#    for i in abcs:\n",
    "#        cons = re.findall(r'[^aeiou]{3,}', string)\n",
    "#        for j in cons:\n",
    "#            gibberish.append(j)\n",
    "#    return gibberish\n",
    "\n",
    "def find_gibberish(string):\n",
    "    gibberish = []\n",
    "    gibs = re.findall(r'[^aeiou]{3,}', string)\n",
    "    for j in gibs:\n",
    "        gibberish.append(j)\n",
    "    return gibberish\n",
    "\n",
    "\n",
    "def list_len(column):\n",
    "    return len(column)\n",
    "\n",
    "def avg_len(column):\n",
    "    total = 0\n",
    "    for i in column:\n",
    "        total += len(i)\n",
    "    if len(column) > 0:\n",
    "        return float(total)/len(column)\n",
    "    else:\n",
    "        return 0\n",
    "\n",
    "def find_max(column):\n",
    "    if len(column)>0:\n",
    "        return len(max(column, key=len))\n",
    "    else:\n",
    "        return 0\n",
    "\n",
    "    \n",
    "    \n",
    "#apply functions to build basic features\n",
    "\n",
    "df['numbers'] = df['domain'].apply(string_number_count)\n",
    "df['other_chars'] = df['domain'].apply(others)\n",
    "df['alpha'] = df['domain'].apply(string_alpha_count)\n",
    "df['length'] = df['domain'].apply(string_length)\n",
    "df['entropy'] = df['domain'].apply(entropy)\n",
    "df['TLD'] = df['host'].apply(find_tld)\n",
    "df['short_tld'] = df['TLD'].apply(shorten)\n",
    "df['tld_entropy']=df['TLD'].apply(entropy)\n",
    "df['tld_length']=df['TLD'].apply(string_length)\n",
    "df['2LD']=df['host'].apply(two_LD)\n",
    "df['2LD_length']=df['2LD'].apply(string_length)\n",
    "df['2LD_entropy']=df['2LD'].apply(entropy)\n",
    "df['vowel_count']=df['domain'].apply(vowel_count)\n",
    "df['v_ratio']=df['vowel_count']/df['length']\n",
    "df['num_domains']=df['host'].apply(num_domains)\n",
    "\n",
    "df['num_density']=df['numbers']/df['length']\n",
    "\n",
    "df['gibberish']=df['domain'].apply(find_gibberish)\n",
    "df['gibberish_amount']=df['gibberish'].apply(list_len)\n",
    "df['gibberish_avg']=df['gibberish'].apply(avg_len)\n",
    "df['gibberish_max']=df['gibberish'].apply(find_max)\n",
    "\n",
    "\n",
    "#want to create a list of common TLDs, to prevent a long-tail distribution problem with too many classes\n",
    "\n",
    "common_list= []\n",
    "\n",
    "#add frequent TLDs:\n",
    "\n",
    "def guest_list(column):\n",
    "    x = len(column)\n",
    "    xx = column.value_counts()\n",
    "    xdict = xx.to_dict().items()\n",
    "    threshold = len(column)*.005\n",
    "    for k, v in xdict:\n",
    "        if v > threshold:\n",
    "            common_list.append(k)\n",
    "\n",
    "def known_terms(artifact):\n",
    "    string= str(artifact).lower()\n",
    "    if string in common_list:\n",
    "        return string\n",
    "    else:\n",
    "        return 'unknown'\n",
    "\n",
    "def guest_list(column):\n",
    "    x = len(column)\n",
    "    xx = column.value_counts()\n",
    "    xdict = xx.to_dict().items()\n",
    "    threshold = len(column)*.005\n",
    "    for k, v in xdict:\n",
    "        if v > threshold:\n",
    "            common_list.append(k)\n",
    "            \n",
    "common_list= []\n",
    "guest_list(df['TLD'])\n",
    "df['common_TLD'] = df['TLD'].apply(known_terms)\n"
   ]
  },
  {
   "cell_type": "markdown",
   "metadata": {},
   "source": [
    "## Read in english words"
   ]
  },
  {
   "cell_type": "code",
   "execution_count": 6,
   "metadata": {
    "collapsed": true
   },
   "outputs": [],
   "source": [
    "from random import choice\n",
    "import string\n",
    "\n",
    "dictionary = set(open('dictionary.txt','r').read().lower().split())\n",
    "max_len = max(map(len, dictionary)) #longest word in the set of words\n",
    "\n",
    "def find_words(column):\n",
    "    text = column\n",
    "#text += '-'+text[::-1] #append the reverse of the text to itself\n",
    "\n",
    "    words_found = [] #set of words found, starts empty\n",
    "    for i in xrange(len(text)): #for each possible starting position in the corpus\n",
    "        chunk = text[i:i+max_len+1] #chunk that is the size of the longest word\n",
    "        for j in xrange(1,len(chunk)+1): #loop to check each possible subchunk\n",
    "            word = chunk[:j] #subchunk\n",
    "            if word in dictionary: #constant time hash lookup if it's in dictionary\n",
    "                words_found.append(word) #add to set of words\n",
    "\n",
    "    return words_found\n",
    "\n",
    "df['english_words']=df['domain'].apply(find_words)\n",
    "\n",
    "df['words_count']=df['english_words'].apply(list_len)\n",
    "df['words_avg']=df['english_words'].apply(avg_len)\n",
    "df['words_max']=df['english_words'].apply(find_max)"
   ]
  },
  {
   "cell_type": "code",
   "execution_count": 7,
   "metadata": {
    "scrolled": true
   },
   "outputs": [
    {
     "data": {
      "text/html": [
       "<div>\n",
       "<style>\n",
       "    .dataframe thead tr:only-child th {\n",
       "        text-align: right;\n",
       "    }\n",
       "\n",
       "    .dataframe thead th {\n",
       "        text-align: left;\n",
       "    }\n",
       "\n",
       "    .dataframe tbody tr th {\n",
       "        vertical-align: top;\n",
       "    }\n",
       "</style>\n",
       "<table border=\"1\" class=\"dataframe\">\n",
       "  <thead>\n",
       "    <tr style=\"text-align: right;\">\n",
       "      <th></th>\n",
       "      <th>host</th>\n",
       "      <th>domain</th>\n",
       "      <th>class</th>\n",
       "      <th>subclass</th>\n",
       "      <th>numbers</th>\n",
       "      <th>other_chars</th>\n",
       "      <th>alpha</th>\n",
       "      <th>length</th>\n",
       "      <th>entropy</th>\n",
       "      <th>TLD</th>\n",
       "      <th>...</th>\n",
       "      <th>num_density</th>\n",
       "      <th>gibberish</th>\n",
       "      <th>gibberish_amount</th>\n",
       "      <th>gibberish_avg</th>\n",
       "      <th>gibberish_max</th>\n",
       "      <th>common_TLD</th>\n",
       "      <th>english_words</th>\n",
       "      <th>words_count</th>\n",
       "      <th>words_avg</th>\n",
       "      <th>words_max</th>\n",
       "    </tr>\n",
       "  </thead>\n",
       "  <tbody>\n",
       "    <tr>\n",
       "      <th>0</th>\n",
       "      <td>000directory.com.ar</td>\n",
       "      <td>000directory</td>\n",
       "      <td>legit</td>\n",
       "      <td>legit</td>\n",
       "      <td>3</td>\n",
       "      <td>0</td>\n",
       "      <td>9</td>\n",
       "      <td>12</td>\n",
       "      <td>3.022055</td>\n",
       "      <td>ar</td>\n",
       "      <td>...</td>\n",
       "      <td>0.250000</td>\n",
       "      <td>[000d]</td>\n",
       "      <td>1</td>\n",
       "      <td>4.0</td>\n",
       "      <td>4</td>\n",
       "      <td>unknown</td>\n",
       "      <td>[dire, direct, director, directory, ire, recto...</td>\n",
       "      <td>7</td>\n",
       "      <td>5.714286</td>\n",
       "      <td>9</td>\n",
       "    </tr>\n",
       "    <tr>\n",
       "      <th>1</th>\n",
       "      <td>000webhost.com</td>\n",
       "      <td>000webhost</td>\n",
       "      <td>legit</td>\n",
       "      <td>legit</td>\n",
       "      <td>3</td>\n",
       "      <td>0</td>\n",
       "      <td>7</td>\n",
       "      <td>10</td>\n",
       "      <td>2.846439</td>\n",
       "      <td>com</td>\n",
       "      <td>...</td>\n",
       "      <td>0.300000</td>\n",
       "      <td>[000w]</td>\n",
       "      <td>1</td>\n",
       "      <td>4.0</td>\n",
       "      <td>4</td>\n",
       "      <td>com</td>\n",
       "      <td>[web, host]</td>\n",
       "      <td>2</td>\n",
       "      <td>3.500000</td>\n",
       "      <td>4</td>\n",
       "    </tr>\n",
       "    <tr>\n",
       "      <th>2</th>\n",
       "      <td>001fans.com</td>\n",
       "      <td>001fans</td>\n",
       "      <td>legit</td>\n",
       "      <td>legit</td>\n",
       "      <td>3</td>\n",
       "      <td>0</td>\n",
       "      <td>4</td>\n",
       "      <td>7</td>\n",
       "      <td>2.521641</td>\n",
       "      <td>com</td>\n",
       "      <td>...</td>\n",
       "      <td>0.428571</td>\n",
       "      <td>[001f]</td>\n",
       "      <td>1</td>\n",
       "      <td>4.0</td>\n",
       "      <td>4</td>\n",
       "      <td>com</td>\n",
       "      <td>[fan, fans]</td>\n",
       "      <td>2</td>\n",
       "      <td>3.500000</td>\n",
       "      <td>4</td>\n",
       "    </tr>\n",
       "    <tr>\n",
       "      <th>3</th>\n",
       "      <td>01-telecharger.com</td>\n",
       "      <td>01-telecharger</td>\n",
       "      <td>legit</td>\n",
       "      <td>legit</td>\n",
       "      <td>2</td>\n",
       "      <td>1</td>\n",
       "      <td>11</td>\n",
       "      <td>14</td>\n",
       "      <td>3.324863</td>\n",
       "      <td>com</td>\n",
       "      <td>...</td>\n",
       "      <td>0.142857</td>\n",
       "      <td>[01-t]</td>\n",
       "      <td>1</td>\n",
       "      <td>4.0</td>\n",
       "      <td>4</td>\n",
       "      <td>com</td>\n",
       "      <td>[char, charge, charger]</td>\n",
       "      <td>3</td>\n",
       "      <td>5.666667</td>\n",
       "      <td>7</td>\n",
       "    </tr>\n",
       "    <tr>\n",
       "      <th>4</th>\n",
       "      <td>010shangpu.com</td>\n",
       "      <td>010shangpu</td>\n",
       "      <td>legit</td>\n",
       "      <td>legit</td>\n",
       "      <td>3</td>\n",
       "      <td>0</td>\n",
       "      <td>7</td>\n",
       "      <td>10</td>\n",
       "      <td>3.121928</td>\n",
       "      <td>com</td>\n",
       "      <td>...</td>\n",
       "      <td>0.300000</td>\n",
       "      <td>[010sh, ngp]</td>\n",
       "      <td>2</td>\n",
       "      <td>4.0</td>\n",
       "      <td>5</td>\n",
       "      <td>com</td>\n",
       "      <td>[han, hang]</td>\n",
       "      <td>2</td>\n",
       "      <td>3.500000</td>\n",
       "      <td>4</td>\n",
       "    </tr>\n",
       "  </tbody>\n",
       "</table>\n",
       "<p>5 rows × 29 columns</p>\n",
       "</div>"
      ],
      "text/plain": [
       "                  host          domain  class subclass  numbers  other_chars  \\\n",
       "0  000directory.com.ar    000directory  legit    legit        3            0   \n",
       "1       000webhost.com      000webhost  legit    legit        3            0   \n",
       "2          001fans.com         001fans  legit    legit        3            0   \n",
       "3   01-telecharger.com  01-telecharger  legit    legit        2            1   \n",
       "4       010shangpu.com      010shangpu  legit    legit        3            0   \n",
       "\n",
       "   alpha  length   entropy  TLD    ...     num_density     gibberish  \\\n",
       "0      9      12  3.022055   ar    ...        0.250000        [000d]   \n",
       "1      7      10  2.846439  com    ...        0.300000        [000w]   \n",
       "2      4       7  2.521641  com    ...        0.428571        [001f]   \n",
       "3     11      14  3.324863  com    ...        0.142857        [01-t]   \n",
       "4      7      10  3.121928  com    ...        0.300000  [010sh, ngp]   \n",
       "\n",
       "   gibberish_amount gibberish_avg  gibberish_max  common_TLD  \\\n",
       "0                 1           4.0              4     unknown   \n",
       "1                 1           4.0              4         com   \n",
       "2                 1           4.0              4         com   \n",
       "3                 1           4.0              4         com   \n",
       "4                 2           4.0              5         com   \n",
       "\n",
       "                                       english_words  words_count  words_avg  \\\n",
       "0  [dire, direct, director, directory, ire, recto...            7   5.714286   \n",
       "1                                        [web, host]            2   3.500000   \n",
       "2                                        [fan, fans]            2   3.500000   \n",
       "3                            [char, charge, charger]            3   5.666667   \n",
       "4                                        [han, hang]            2   3.500000   \n",
       "\n",
       "   words_max  \n",
       "0          9  \n",
       "1          4  \n",
       "2          4  \n",
       "3          7  \n",
       "4          4  \n",
       "\n",
       "[5 rows x 29 columns]"
      ]
     },
     "execution_count": 7,
     "metadata": {},
     "output_type": "execute_result"
    }
   ],
   "source": [
    "df.head()"
   ]
  },
  {
   "cell_type": "code",
   "execution_count": 8,
   "metadata": {},
   "outputs": [
    {
     "data": {
      "text/plain": [
       "['host',\n",
       " 'domain',\n",
       " 'class',\n",
       " 'subclass',\n",
       " 'numbers',\n",
       " 'other_chars',\n",
       " 'alpha',\n",
       " 'length',\n",
       " 'entropy',\n",
       " 'TLD',\n",
       " 'short_tld',\n",
       " 'tld_entropy',\n",
       " 'tld_length',\n",
       " '2LD',\n",
       " '2LD_length',\n",
       " '2LD_entropy',\n",
       " 'vowel_count',\n",
       " 'v_ratio',\n",
       " 'num_domains',\n",
       " 'num_density',\n",
       " 'gibberish',\n",
       " 'gibberish_amount',\n",
       " 'gibberish_avg',\n",
       " 'gibberish_max',\n",
       " 'common_TLD',\n",
       " 'english_words',\n",
       " 'words_count',\n",
       " 'words_avg',\n",
       " 'words_max']"
      ]
     },
     "execution_count": 8,
     "metadata": {},
     "output_type": "execute_result"
    }
   ],
   "source": [
    "list(df)"
   ]
  },
  {
   "cell_type": "code",
   "execution_count": 9,
   "metadata": {},
   "outputs": [
    {
     "data": {
      "text/html": [
       "<div>\n",
       "<style>\n",
       "    .dataframe thead tr:only-child th {\n",
       "        text-align: right;\n",
       "    }\n",
       "\n",
       "    .dataframe thead th {\n",
       "        text-align: left;\n",
       "    }\n",
       "\n",
       "    .dataframe tbody tr th {\n",
       "        vertical-align: top;\n",
       "    }\n",
       "</style>\n",
       "<table border=\"1\" class=\"dataframe\">\n",
       "  <thead>\n",
       "    <tr style=\"text-align: right;\">\n",
       "      <th></th>\n",
       "      <th>numbers</th>\n",
       "      <th>other_chars</th>\n",
       "      <th>alpha</th>\n",
       "      <th>length</th>\n",
       "      <th>entropy</th>\n",
       "      <th>tld_entropy</th>\n",
       "      <th>tld_length</th>\n",
       "      <th>2LD_length</th>\n",
       "      <th>2LD_entropy</th>\n",
       "      <th>vowel_count</th>\n",
       "      <th>v_ratio</th>\n",
       "      <th>num_domains</th>\n",
       "      <th>num_density</th>\n",
       "      <th>gibberish_amount</th>\n",
       "      <th>gibberish_avg</th>\n",
       "      <th>gibberish_max</th>\n",
       "      <th>words_count</th>\n",
       "      <th>words_avg</th>\n",
       "      <th>words_max</th>\n",
       "    </tr>\n",
       "  </thead>\n",
       "  <tbody>\n",
       "    <tr>\n",
       "      <th>count</th>\n",
       "      <td>133926.000000</td>\n",
       "      <td>133926.000000</td>\n",
       "      <td>133926.000000</td>\n",
       "      <td>133926.000000</td>\n",
       "      <td>133926.000000</td>\n",
       "      <td>133926.000000</td>\n",
       "      <td>133926.000000</td>\n",
       "      <td>133926.000000</td>\n",
       "      <td>133926.000000</td>\n",
       "      <td>133926.000000</td>\n",
       "      <td>133926.000000</td>\n",
       "      <td>133926.000000</td>\n",
       "      <td>133926.000000</td>\n",
       "      <td>133926.000000</td>\n",
       "      <td>133926.000000</td>\n",
       "      <td>133926.000000</td>\n",
       "      <td>133926.000000</td>\n",
       "      <td>133926.000000</td>\n",
       "      <td>133926.000000</td>\n",
       "    </tr>\n",
       "    <tr>\n",
       "      <th>mean</th>\n",
       "      <td>0.759136</td>\n",
       "      <td>0.052686</td>\n",
       "      <td>12.507459</td>\n",
       "      <td>13.319288</td>\n",
       "      <td>3.146513</td>\n",
       "      <td>1.275650</td>\n",
       "      <td>2.478152</td>\n",
       "      <td>12.813382</td>\n",
       "      <td>3.043955</td>\n",
       "      <td>3.959873</td>\n",
       "      <td>0.324199</td>\n",
       "      <td>2.071793</td>\n",
       "      <td>0.033270</td>\n",
       "      <td>1.103468</td>\n",
       "      <td>3.738513</td>\n",
       "      <td>4.330369</td>\n",
       "      <td>2.490823</td>\n",
       "      <td>2.781192</td>\n",
       "      <td>3.617207</td>\n",
       "    </tr>\n",
       "    <tr>\n",
       "      <th>std</th>\n",
       "      <td>2.466659</td>\n",
       "      <td>0.247749</td>\n",
       "      <td>4.614114</td>\n",
       "      <td>5.713475</td>\n",
       "      <td>0.472540</td>\n",
       "      <td>0.302941</td>\n",
       "      <td>0.521092</td>\n",
       "      <td>6.238125</td>\n",
       "      <td>0.652255</td>\n",
       "      <td>1.730825</td>\n",
       "      <td>0.131434</td>\n",
       "      <td>0.260135</td>\n",
       "      <td>0.101895</td>\n",
       "      <td>1.023762</td>\n",
       "      <td>3.806115</td>\n",
       "      <td>4.547830</td>\n",
       "      <td>2.644553</td>\n",
       "      <td>1.939346</td>\n",
       "      <td>2.842597</td>\n",
       "    </tr>\n",
       "    <tr>\n",
       "      <th>min</th>\n",
       "      <td>0.000000</td>\n",
       "      <td>0.000000</td>\n",
       "      <td>0.000000</td>\n",
       "      <td>7.000000</td>\n",
       "      <td>-0.000000</td>\n",
       "      <td>-0.000000</td>\n",
       "      <td>2.000000</td>\n",
       "      <td>1.000000</td>\n",
       "      <td>-0.000000</td>\n",
       "      <td>0.000000</td>\n",
       "      <td>0.000000</td>\n",
       "      <td>2.000000</td>\n",
       "      <td>0.000000</td>\n",
       "      <td>0.000000</td>\n",
       "      <td>0.000000</td>\n",
       "      <td>0.000000</td>\n",
       "      <td>0.000000</td>\n",
       "      <td>0.000000</td>\n",
       "      <td>0.000000</td>\n",
       "    </tr>\n",
       "    <tr>\n",
       "      <th>25%</th>\n",
       "      <td>0.000000</td>\n",
       "      <td>0.000000</td>\n",
       "      <td>9.000000</td>\n",
       "      <td>9.000000</td>\n",
       "      <td>2.807355</td>\n",
       "      <td>1.000000</td>\n",
       "      <td>2.000000</td>\n",
       "      <td>9.000000</td>\n",
       "      <td>2.750000</td>\n",
       "      <td>3.000000</td>\n",
       "      <td>0.230769</td>\n",
       "      <td>2.000000</td>\n",
       "      <td>0.000000</td>\n",
       "      <td>0.000000</td>\n",
       "      <td>0.000000</td>\n",
       "      <td>0.000000</td>\n",
       "      <td>0.000000</td>\n",
       "      <td>0.000000</td>\n",
       "      <td>0.000000</td>\n",
       "    </tr>\n",
       "    <tr>\n",
       "      <th>50%</th>\n",
       "      <td>0.000000</td>\n",
       "      <td>0.000000</td>\n",
       "      <td>12.000000</td>\n",
       "      <td>12.000000</td>\n",
       "      <td>3.121928</td>\n",
       "      <td>1.000000</td>\n",
       "      <td>2.000000</td>\n",
       "      <td>12.000000</td>\n",
       "      <td>3.095795</td>\n",
       "      <td>4.000000</td>\n",
       "      <td>0.333333</td>\n",
       "      <td>2.000000</td>\n",
       "      <td>0.000000</td>\n",
       "      <td>1.000000</td>\n",
       "      <td>3.000000</td>\n",
       "      <td>3.000000</td>\n",
       "      <td>2.000000</td>\n",
       "      <td>3.333333</td>\n",
       "      <td>4.000000</td>\n",
       "    </tr>\n",
       "    <tr>\n",
       "      <th>75%</th>\n",
       "      <td>0.000000</td>\n",
       "      <td>0.000000</td>\n",
       "      <td>15.000000</td>\n",
       "      <td>15.000000</td>\n",
       "      <td>3.408229</td>\n",
       "      <td>1.584963</td>\n",
       "      <td>3.000000</td>\n",
       "      <td>15.000000</td>\n",
       "      <td>3.392747</td>\n",
       "      <td>5.000000</td>\n",
       "      <td>0.428571</td>\n",
       "      <td>2.000000</td>\n",
       "      <td>0.000000</td>\n",
       "      <td>2.000000</td>\n",
       "      <td>5.333333</td>\n",
       "      <td>6.000000</td>\n",
       "      <td>4.000000</td>\n",
       "      <td>4.166667</td>\n",
       "      <td>6.000000</td>\n",
       "    </tr>\n",
       "    <tr>\n",
       "      <th>max</th>\n",
       "      <td>21.000000</td>\n",
       "      <td>11.000000</td>\n",
       "      <td>45.000000</td>\n",
       "      <td>56.000000</td>\n",
       "      <td>4.504706</td>\n",
       "      <td>3.169925</td>\n",
       "      <td>9.000000</td>\n",
       "      <td>56.000000</td>\n",
       "      <td>4.504706</td>\n",
       "      <td>18.000000</td>\n",
       "      <td>0.900000</td>\n",
       "      <td>4.000000</td>\n",
       "      <td>1.000000</td>\n",
       "      <td>11.000000</td>\n",
       "      <td>28.000000</td>\n",
       "      <td>28.000000</td>\n",
       "      <td>23.000000</td>\n",
       "      <td>12.000000</td>\n",
       "      <td>18.000000</td>\n",
       "    </tr>\n",
       "  </tbody>\n",
       "</table>\n",
       "</div>"
      ],
      "text/plain": [
       "             numbers    other_chars          alpha         length  \\\n",
       "count  133926.000000  133926.000000  133926.000000  133926.000000   \n",
       "mean        0.759136       0.052686      12.507459      13.319288   \n",
       "std         2.466659       0.247749       4.614114       5.713475   \n",
       "min         0.000000       0.000000       0.000000       7.000000   \n",
       "25%         0.000000       0.000000       9.000000       9.000000   \n",
       "50%         0.000000       0.000000      12.000000      12.000000   \n",
       "75%         0.000000       0.000000      15.000000      15.000000   \n",
       "max        21.000000      11.000000      45.000000      56.000000   \n",
       "\n",
       "             entropy    tld_entropy     tld_length     2LD_length  \\\n",
       "count  133926.000000  133926.000000  133926.000000  133926.000000   \n",
       "mean        3.146513       1.275650       2.478152      12.813382   \n",
       "std         0.472540       0.302941       0.521092       6.238125   \n",
       "min        -0.000000      -0.000000       2.000000       1.000000   \n",
       "25%         2.807355       1.000000       2.000000       9.000000   \n",
       "50%         3.121928       1.000000       2.000000      12.000000   \n",
       "75%         3.408229       1.584963       3.000000      15.000000   \n",
       "max         4.504706       3.169925       9.000000      56.000000   \n",
       "\n",
       "         2LD_entropy    vowel_count        v_ratio    num_domains  \\\n",
       "count  133926.000000  133926.000000  133926.000000  133926.000000   \n",
       "mean        3.043955       3.959873       0.324199       2.071793   \n",
       "std         0.652255       1.730825       0.131434       0.260135   \n",
       "min        -0.000000       0.000000       0.000000       2.000000   \n",
       "25%         2.750000       3.000000       0.230769       2.000000   \n",
       "50%         3.095795       4.000000       0.333333       2.000000   \n",
       "75%         3.392747       5.000000       0.428571       2.000000   \n",
       "max         4.504706      18.000000       0.900000       4.000000   \n",
       "\n",
       "         num_density  gibberish_amount  gibberish_avg  gibberish_max  \\\n",
       "count  133926.000000     133926.000000  133926.000000  133926.000000   \n",
       "mean        0.033270          1.103468       3.738513       4.330369   \n",
       "std         0.101895          1.023762       3.806115       4.547830   \n",
       "min         0.000000          0.000000       0.000000       0.000000   \n",
       "25%         0.000000          0.000000       0.000000       0.000000   \n",
       "50%         0.000000          1.000000       3.000000       3.000000   \n",
       "75%         0.000000          2.000000       5.333333       6.000000   \n",
       "max         1.000000         11.000000      28.000000      28.000000   \n",
       "\n",
       "         words_count      words_avg      words_max  \n",
       "count  133926.000000  133926.000000  133926.000000  \n",
       "mean        2.490823       2.781192       3.617207  \n",
       "std         2.644553       1.939346       2.842597  \n",
       "min         0.000000       0.000000       0.000000  \n",
       "25%         0.000000       0.000000       0.000000  \n",
       "50%         2.000000       3.333333       4.000000  \n",
       "75%         4.000000       4.166667       6.000000  \n",
       "max        23.000000      12.000000      18.000000  "
      ]
     },
     "execution_count": 9,
     "metadata": {},
     "output_type": "execute_result"
    }
   ],
   "source": [
    "df.describe()"
   ]
  },
  {
   "cell_type": "markdown",
   "metadata": {},
   "source": [
    "## evaluate some variables"
   ]
  },
  {
   "cell_type": "code",
   "execution_count": 10,
   "metadata": {},
   "outputs": [
    {
     "data": {
      "image/png": "[encoded data removed]",
      "text/plain": [
       "<matplotlib.figure.Figure at 0x10d4f9b50>"
      ]
     },
     "metadata": {},
     "output_type": "display_data"
    }
   ],
   "source": [
    "plt.hist(df['length'], bins = 100)\n",
    "plt.show()"
   ]
  },
  {
   "cell_type": "code",
   "execution_count": 11,
   "metadata": {},
   "outputs": [
    {
     "data": {
      "text/plain": [
       "<matplotlib.axes._subplots.AxesSubplot at 0x10237c990>"
      ]
     },
     "execution_count": 11,
     "metadata": {},
     "output_type": "execute_result"
    },
    {
     "data": {
      "image/png": "[encoded data removed]",
      "text/plain": [
       "<matplotlib.figure.Figure at 0x100733790>"
      ]
     },
     "metadata": {},
     "output_type": "display_data"
    }
   ],
   "source": [
    "df['length'].plot(kind=\"density\",\n",
    "              figsize=(5,5), xlim=(0,40))"
   ]
  },
  {
   "cell_type": "code",
   "execution_count": 12,
   "metadata": {},
   "outputs": [
    {
     "data": {
      "text/plain": [
       "<matplotlib.axes._subplots.AxesSubplot at 0x10c2e7790>"
      ]
     },
     "execution_count": 12,
     "metadata": {},
     "output_type": "execute_result"
    },
    {
     "data": {
      "image/png": "[encoded data removed]",
      "text/plain": [
       "<matplotlib.figure.Figure at 0x1104cae50>"
      ]
     },
     "metadata": {},
     "output_type": "display_data"
    }
   ],
   "source": [
    "df['numbers'].plot(kind='density', figsize=(5,5), xlim=(-2,15))"
   ]
  },
  {
   "cell_type": "code",
   "execution_count": 13,
   "metadata": {},
   "outputs": [
    {
     "data": {
      "text/plain": [
       "<matplotlib.axes._subplots.AxesSubplot at 0x10adb8810>"
      ]
     },
     "execution_count": 13,
     "metadata": {},
     "output_type": "execute_result"
    },
    {
     "data": {
      "image/png": "[encoded data removed]",
      "text/plain": [
       "<matplotlib.figure.Figure at 0x10bf01050>"
      ]
     },
     "metadata": {},
     "output_type": "display_data"
    }
   ],
   "source": [
    "df['alpha'].plot(kind=\"density\",\n",
    "              figsize=(5,5), xlim = (-5,20))"
   ]
  },
  {
   "cell_type": "markdown",
   "metadata": {},
   "source": [
    "## Encode Target Variable"
   ]
  },
  {
   "cell_type": "code",
   "execution_count": 14,
   "metadata": {
    "collapsed": true
   },
   "outputs": [],
   "source": [
    "def bad_class(string):\n",
    "    if string == 'goz':\n",
    "        return 1\n",
    "    elif string =='newgoz':\n",
    "        return 2\n",
    "    elif string =='cryptolocker':\n",
    "        return 3\n",
    "    else:\n",
    "        return 0"
   ]
  },
  {
   "cell_type": "code",
   "execution_count": 15,
   "metadata": {
    "collapsed": true
   },
   "outputs": [],
   "source": [
    "df['multiclass']=df['subclass'].apply(bad_class)"
   ]
  },
  {
   "cell_type": "code",
   "execution_count": 41,
   "metadata": {},
   "outputs": [
    {
     "data": {
      "text/plain": [
       "subclass\n",
       "cryptolocker    34319\n",
       "goz              7347\n",
       "legit           81261\n",
       "newgoz          10999\n",
       "Name: host, dtype: int64"
      ]
     },
     "execution_count": 41,
     "metadata": {},
     "output_type": "execute_result"
    }
   ],
   "source": [
    "df.groupby(['subclass']).count()['host']"
   ]
  },
  {
   "cell_type": "code",
   "execution_count": 19,
   "metadata": {},
   "outputs": [
    {
     "data": {
      "text/html": [
       "<div>\n",
       "<style>\n",
       "    .dataframe thead tr:only-child th {\n",
       "        text-align: right;\n",
       "    }\n",
       "\n",
       "    .dataframe thead th {\n",
       "        text-align: left;\n",
       "    }\n",
       "\n",
       "    .dataframe tbody tr th {\n",
       "        vertical-align: top;\n",
       "    }\n",
       "</style>\n",
       "<table border=\"1\" class=\"dataframe\">\n",
       "  <thead>\n",
       "    <tr style=\"text-align: right;\">\n",
       "      <th></th>\n",
       "      <th>cryptolocker</th>\n",
       "      <th>goz</th>\n",
       "      <th>legit</th>\n",
       "      <th>newgoz</th>\n",
       "    </tr>\n",
       "  </thead>\n",
       "  <tbody>\n",
       "    <tr>\n",
       "      <th>0</th>\n",
       "      <td>0</td>\n",
       "      <td>0</td>\n",
       "      <td>1</td>\n",
       "      <td>0</td>\n",
       "    </tr>\n",
       "    <tr>\n",
       "      <th>1</th>\n",
       "      <td>0</td>\n",
       "      <td>0</td>\n",
       "      <td>1</td>\n",
       "      <td>0</td>\n",
       "    </tr>\n",
       "    <tr>\n",
       "      <th>2</th>\n",
       "      <td>0</td>\n",
       "      <td>0</td>\n",
       "      <td>1</td>\n",
       "      <td>0</td>\n",
       "    </tr>\n",
       "    <tr>\n",
       "      <th>3</th>\n",
       "      <td>0</td>\n",
       "      <td>0</td>\n",
       "      <td>1</td>\n",
       "      <td>0</td>\n",
       "    </tr>\n",
       "    <tr>\n",
       "      <th>4</th>\n",
       "      <td>0</td>\n",
       "      <td>0</td>\n",
       "      <td>1</td>\n",
       "      <td>0</td>\n",
       "    </tr>\n",
       "  </tbody>\n",
       "</table>\n",
       "</div>"
      ],
      "text/plain": [
       "   cryptolocker  goz  legit  newgoz\n",
       "0             0    0      1       0\n",
       "1             0    0      1       0\n",
       "2             0    0      1       0\n",
       "3             0    0      1       0\n",
       "4             0    0      1       0"
      ]
     },
     "execution_count": 19,
     "metadata": {},
     "output_type": "execute_result"
    }
   ],
   "source": [
    "dg_dummies = pd.get_dummies(df['subclass'])\n",
    "dg_dummies.head()"
   ]
  },
  {
   "cell_type": "code",
   "execution_count": 20,
   "metadata": {
    "collapsed": true
   },
   "outputs": [],
   "source": [
    "df = pd.concat([df,dg_dummies], axis = 1)"
   ]
  },
  {
   "cell_type": "code",
   "execution_count": 24,
   "metadata": {},
   "outputs": [],
   "source": [
    "final_inputs = ['numbers',\n",
    " 'gibberish_avg',\n",
    " 'words_avg',\n",
    " 'entropy',\n",
    " 'other_chars',\n",
    " 'tld_length', \n",
    " 'vowel_count']"
   ]
  },
  {
   "cell_type": "markdown",
   "metadata": {},
   "source": [
    "## Build Basic Model"
   ]
  },
  {
   "cell_type": "code",
   "execution_count": 25,
   "metadata": {},
   "outputs": [
    {
     "name": "stderr",
     "output_type": "stream",
     "text": [
      "/Users/matthew.berninger/anaconda/lib/python2.7/site-packages/sklearn/cross_validation.py:44: DeprecationWarning: This module was deprecated in version 0.18 in favor of the model_selection module into which all the refactored classes and functions are moved. Also note that the interface of the new CV iterators are different from that of this module. This module will be removed in 0.20.\n",
      "  \"This module will be removed in 0.20.\", DeprecationWarning)\n",
      "/Users/matthew.berninger/anaconda/lib/python2.7/site-packages/sklearn/grid_search.py:43: DeprecationWarning: This module was deprecated in version 0.18 in favor of the model_selection module into which all the refactored classes and functions are moved. This module will be removed in 0.20.\n",
      "  DeprecationWarning)\n"
     ]
    }
   ],
   "source": [
    "from sklearn import grid_search, cross_validation\n",
    "from sklearn.linear_model import LogisticRegression\n",
    "from sklearn.metrics import confusion_matrix\n",
    "from sklearn.cross_validation import train_test_split\n",
    "from sklearn import metrics \n",
    "\n",
    "feature_set = df[final_inputs]\n",
    "X= feature_set\n",
    "y = df['multiclass']\n",
    "\n",
    "X_train, X_test, y_train, y_test = train_test_split(X, y, test_size= .30, random_state=42)"
   ]
  },
  {
   "cell_type": "code",
   "execution_count": 26,
   "metadata": {},
   "outputs": [
    {
     "data": {
      "text/plain": [
       "array([[24041,    40,    17,   185],\n",
       "       [    0,  1736,     0,   494],\n",
       "       [    2,     0,  3303,     0],\n",
       "       [  580,    62,     0,  9718]])"
      ]
     },
     "execution_count": 26,
     "metadata": {},
     "output_type": "execute_result"
    }
   ],
   "source": [
    "lm = LogisticRegression()\n",
    "lm.fit(X_train, y_train)\n",
    "\n",
    "y_pred = lm.predict(X_test)\n",
    "\n",
    "from sklearn.metrics import confusion_matrix\n",
    "cm = confusion_matrix(y_test, y_pred)\n",
    "cm"
   ]
  },
  {
   "cell_type": "code",
   "execution_count": 28,
   "metadata": {},
   "outputs": [
    {
     "name": "stdout",
     "output_type": "stream",
     "text": [
      "CV Acc [ 0.96534731  0.96279289  0.96429291], Average Acc 0.964144370366\n"
     ]
    }
   ],
   "source": [
    "from sklearn.cross_validation import cross_val_score\n",
    "scores_final = cross_val_score(lm, X, y, scoring='accuracy')\n",
    "print('CV Acc {}, Average Acc {}'.format(scores_final, scores_final.mean()))"
   ]
  },
  {
   "cell_type": "code",
   "execution_count": 29,
   "metadata": {},
   "outputs": [
    {
     "name": "stdout",
     "output_type": "stream",
     "text": [
      "LogisticRegression(C=1000, class_weight='balanced', dual=False,\n",
      "          fit_intercept=True, intercept_scaling=1, max_iter=100,\n",
      "          multi_class='ovr', n_jobs=1, penalty='l2', random_state=None,\n",
      "          solver='liblinear', tol=0.0001, verbose=0, warm_start=False)\n",
      "CV Acc [ 0.97045449  0.9686618   0.96763065], Average Acc 0.968915648762\n"
     ]
    }
   ],
   "source": [
    "kf = cross_validation.KFold(len(X_train), n_folds = 5)\n",
    "gs = grid_search.GridSearchCV(\n",
    "    estimator=LogisticRegression(),\n",
    "    param_grid={'penalty': ['l2'],'C': [10**-i for i in range(-5, 5)], 'class_weight': [None, 'balanced']},\n",
    "    cv=kf,\n",
    "    scoring='accuracy'\n",
    ")\n",
    "\n",
    "gs.fit(X_train, y_train)\n",
    "\n",
    "lm_final = gs.best_estimator_\n",
    "scores_final = cross_val_score(lm_final, X, y, scoring='accuracy')\n",
    "print lm_final\n",
    "print('CV Acc {}, Average Acc {}'.format(scores_final, scores_final.mean()))\n"
   ]
  },
  {
   "cell_type": "code",
   "execution_count": 30,
   "metadata": {},
   "outputs": [
    {
     "name": "stdout",
     "output_type": "stream",
     "text": [
      "[[23916    79     5   283]\n",
      " [    0  1977     0   253]\n",
      " [    1     0  3304     0]\n",
      " [  323   264     0  9773]]\n",
      "0.969933794614\n"
     ]
    }
   ],
   "source": [
    "from sklearn.metrics import confusion_matrix\n",
    "y_pred = gs.best_estimator_.predict(X_test)\n",
    "confusion_matrix = confusion_matrix(y_test, y_pred)\n",
    "print confusion_matrix\n",
    "\n",
    "from sklearn.metrics import accuracy_score\n",
    "score = accuracy_score(y_test, y_pred)\n",
    "print score"
   ]
  },
  {
   "cell_type": "code",
   "execution_count": 38,
   "metadata": {},
   "outputs": [
    {
     "name": "stdout",
     "output_type": "stream",
     "text": [
      "[[24120     2     1   160]\n",
      " [    4  2120     0   106]\n",
      " [    2     0  3303     0]\n",
      " [  173    56     0 10131]]\n",
      "0.987455821594\n"
     ]
    }
   ],
   "source": [
    "from sklearn.ensemble import ExtraTreesClassifier\n",
    "\n",
    "feature_set = df[final_inputs]\n",
    "X= feature_set\n",
    "y = df['multiclass']\n",
    "\n",
    "X_train, X_test, y_train, y_test = train_test_split(X, y, test_size= .30, random_state=42)\n",
    "\n",
    "dt_multi = ExtraTreesClassifier()\n",
    "\n",
    "dt_multi.fit(X_train, y_train)\n",
    "\n",
    "y_pred = dt_multi.predict(X_test)\n",
    "\n",
    "from sklearn.metrics import confusion_matrix\n",
    "cm = confusion_matrix(y_test, y_pred)\n",
    "print cm\n",
    "score = accuracy_score(y_test, y_pred)\n",
    "print score"
   ]
  },
  {
   "cell_type": "code",
   "execution_count": null,
   "metadata": {
    "collapsed": true
   },
   "outputs": [],
   "source": []
  }
 ],
 "metadata": {
  "kernelspec": {
   "display_name": "Python 2",
   "language": "python",
   "name": "python2"
  },
  "language_info": {
   "codemirror_mode": {
    "name": "ipython",
    "version": 2
   },
   "file_extension": ".py",
   "mimetype": "text/x-python",
   "name": "python",
   "nbconvert_exporter": "python",
   "pygments_lexer": "ipython2",
   "version": "2.7.13"
  }
 },
 "nbformat": 4,
 "nbformat_minor": 2
}
